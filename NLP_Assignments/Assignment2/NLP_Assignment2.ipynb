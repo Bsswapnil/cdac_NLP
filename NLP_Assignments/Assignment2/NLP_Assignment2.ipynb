{
 "cells": [
  {
   "cell_type": "code",
   "execution_count": 3,
   "id": "1fcf1000",
   "metadata": {},
   "outputs": [],
   "source": [
    "from nltk import pos_tag\n",
    "from  nltk.tokenize import word_tokenize"
   ]
  },
  {
   "cell_type": "code",
   "execution_count": 1,
   "id": "5989f53b",
   "metadata": {},
   "outputs": [],
   "source": [
    "nasa='''The National Aeronautics and Space Administration (NASA; /ˈnæsə/) is an independent agency of the U.S. federal government responsible for the civil space program, aeronautics research, and space research. Established in 1958, it succeeded the National Advisory Committee for Aeronautics (NACA) to give the U.S. space development effort a distinct civilian orientation, emphasizing peaceful applications in space science. It has since led most of America's space exploration programs, including Project Mercury, Project Gemini, the 1968–1972 Apollo Moon landing missions, the Skylab space station, and the Space Shuttle. Currently, NASA supports the International Space Station (ISS) along with the Commercial Crew Program, and oversees the development of the Orion spacecraft and the Space Launch System for the lunar Artemis program.\n",
    "\n",
    "NASA's science division is focused on better understanding Earth through the Earth Observing System; advancing heliophysics through the efforts of the Science Mission Directorate's Heliophysics Research Program; exploring bodies throughout the Solar System with advanced robotic spacecraft such as New Horizons and planetary rovers such as Perseverance; and researching astrophysics topics, such as the Big Bang, through the James Webb Space Telescope, the Great Observatories and associated programs. The Launch Services Program oversees launch operations for its uncrewed launches.'''"
   ]
  },
  {
   "cell_type": "code",
   "execution_count": 2,
   "id": "3c5d726b",
   "metadata": {},
   "outputs": [
    {
     "data": {
      "text/plain": [
       "\"The National Aeronautics and Space Administration (NASA; /ˈnæsə/) is an independent agency of the U.S. federal government responsible for the civil space program, aeronautics research, and space research. Established in 1958, it succeeded the National Advisory Committee for Aeronautics (NACA) to give the U.S. space development effort a distinct civilian orientation, emphasizing peaceful applications in space science. It has since led most of America's space exploration programs, including Project Mercury, Project Gemini, the 1968–1972 Apollo Moon landing missions, the Skylab space station, and the Space Shuttle. Currently, NASA supports the International Space Station (ISS) along with the Commercial Crew Program, and oversees the development of the Orion spacecraft and the Space Launch System for the lunar Artemis program.\\n\\nNASA's science division is focused on better understanding Earth through the Earth Observing System; advancing heliophysics through the efforts of the Science Mission Directorate's Heliophysics Research Program; exploring bodies throughout the Solar System with advanced robotic spacecraft such as New Horizons and planetary rovers such as Perseverance; and researching astrophysics topics, such as the Big Bang, through the James Webb Space Telescope, the Great Observatories and associated programs. The Launch Services Program oversees launch operations for its uncrewed launches.\""
      ]
     },
     "execution_count": 2,
     "metadata": {},
     "output_type": "execute_result"
    }
   ],
   "source": [
    "nasa"
   ]
  },
  {
   "cell_type": "markdown",
   "id": "b673eaf7",
   "metadata": {},
   "source": [
    "### POS tagging"
   ]
  },
  {
   "cell_type": "code",
   "execution_count": 4,
   "id": "9c9d090b",
   "metadata": {},
   "outputs": [],
   "source": [
    "tags = pos_tag(word_tokenize(nasa))"
   ]
  },
  {
   "cell_type": "code",
   "execution_count": 5,
   "id": "036854a0",
   "metadata": {},
   "outputs": [
    {
     "data": {
      "text/plain": [
       "[('The', 'DT'),\n",
       " ('National', 'NNP'),\n",
       " ('Aeronautics', 'NNP'),\n",
       " ('and', 'CC'),\n",
       " ('Space', 'NNP'),\n",
       " ('Administration', 'NNP'),\n",
       " ('(', '('),\n",
       " ('NASA', 'NNP'),\n",
       " (';', ':'),\n",
       " ('/ˈnæsə/', 'NNP'),\n",
       " (')', ')'),\n",
       " ('is', 'VBZ'),\n",
       " ('an', 'DT'),\n",
       " ('independent', 'JJ'),\n",
       " ('agency', 'NN'),\n",
       " ('of', 'IN'),\n",
       " ('the', 'DT'),\n",
       " ('U.S.', 'NNP'),\n",
       " ('federal', 'JJ'),\n",
       " ('government', 'NN'),\n",
       " ('responsible', 'JJ'),\n",
       " ('for', 'IN'),\n",
       " ('the', 'DT'),\n",
       " ('civil', 'JJ'),\n",
       " ('space', 'NN'),\n",
       " ('program', 'NN'),\n",
       " (',', ','),\n",
       " ('aeronautics', 'NNS'),\n",
       " ('research', 'NN'),\n",
       " (',', ','),\n",
       " ('and', 'CC'),\n",
       " ('space', 'NN'),\n",
       " ('research', 'NN'),\n",
       " ('.', '.'),\n",
       " ('Established', 'VBN'),\n",
       " ('in', 'IN'),\n",
       " ('1958', 'CD'),\n",
       " (',', ','),\n",
       " ('it', 'PRP'),\n",
       " ('succeeded', 'VBD'),\n",
       " ('the', 'DT'),\n",
       " ('National', 'NNP'),\n",
       " ('Advisory', 'NNP'),\n",
       " ('Committee', 'NNP'),\n",
       " ('for', 'IN'),\n",
       " ('Aeronautics', 'NNP'),\n",
       " ('(', '('),\n",
       " ('NACA', 'NNP'),\n",
       " (')', ')'),\n",
       " ('to', 'TO'),\n",
       " ('give', 'VB'),\n",
       " ('the', 'DT'),\n",
       " ('U.S.', 'NNP'),\n",
       " ('space', 'NN'),\n",
       " ('development', 'NN'),\n",
       " ('effort', 'NN'),\n",
       " ('a', 'DT'),\n",
       " ('distinct', 'JJ'),\n",
       " ('civilian', 'JJ'),\n",
       " ('orientation', 'NN'),\n",
       " (',', ','),\n",
       " ('emphasizing', 'VBG'),\n",
       " ('peaceful', 'JJ'),\n",
       " ('applications', 'NNS'),\n",
       " ('in', 'IN'),\n",
       " ('space', 'NN'),\n",
       " ('science', 'NN'),\n",
       " ('.', '.'),\n",
       " ('It', 'PRP'),\n",
       " ('has', 'VBZ'),\n",
       " ('since', 'IN'),\n",
       " ('led', 'VBN'),\n",
       " ('most', 'JJS'),\n",
       " ('of', 'IN'),\n",
       " ('America', 'NNP'),\n",
       " (\"'s\", 'POS'),\n",
       " ('space', 'NN'),\n",
       " ('exploration', 'NN'),\n",
       " ('programs', 'NNS'),\n",
       " (',', ','),\n",
       " ('including', 'VBG'),\n",
       " ('Project', 'NNP'),\n",
       " ('Mercury', 'NNP'),\n",
       " (',', ','),\n",
       " ('Project', 'NNP'),\n",
       " ('Gemini', 'NNP'),\n",
       " (',', ','),\n",
       " ('the', 'DT'),\n",
       " ('1968–1972', 'CD'),\n",
       " ('Apollo', 'NNP'),\n",
       " ('Moon', 'NNP'),\n",
       " ('landing', 'VBG'),\n",
       " ('missions', 'NNS'),\n",
       " (',', ','),\n",
       " ('the', 'DT'),\n",
       " ('Skylab', 'NNP'),\n",
       " ('space', 'NN'),\n",
       " ('station', 'NN'),\n",
       " (',', ','),\n",
       " ('and', 'CC'),\n",
       " ('the', 'DT'),\n",
       " ('Space', 'NNP'),\n",
       " ('Shuttle', 'NNP'),\n",
       " ('.', '.'),\n",
       " ('Currently', 'NNP'),\n",
       " (',', ','),\n",
       " ('NASA', 'NNP'),\n",
       " ('supports', 'VBZ'),\n",
       " ('the', 'DT'),\n",
       " ('International', 'NNP'),\n",
       " ('Space', 'NNP'),\n",
       " ('Station', 'NNP'),\n",
       " ('(', '('),\n",
       " ('ISS', 'NNP'),\n",
       " (')', ')'),\n",
       " ('along', 'IN'),\n",
       " ('with', 'IN'),\n",
       " ('the', 'DT'),\n",
       " ('Commercial', 'JJ'),\n",
       " ('Crew', 'NNP'),\n",
       " ('Program', 'NNP'),\n",
       " (',', ','),\n",
       " ('and', 'CC'),\n",
       " ('oversees', 'VBZ'),\n",
       " ('the', 'DT'),\n",
       " ('development', 'NN'),\n",
       " ('of', 'IN'),\n",
       " ('the', 'DT'),\n",
       " ('Orion', 'NNP'),\n",
       " ('spacecraft', 'NN'),\n",
       " ('and', 'CC'),\n",
       " ('the', 'DT'),\n",
       " ('Space', 'NNP'),\n",
       " ('Launch', 'NNP'),\n",
       " ('System', 'NNP'),\n",
       " ('for', 'IN'),\n",
       " ('the', 'DT'),\n",
       " ('lunar', 'JJ'),\n",
       " ('Artemis', 'NNP'),\n",
       " ('program', 'NN'),\n",
       " ('.', '.'),\n",
       " ('NASA', 'NNP'),\n",
       " (\"'s\", 'POS'),\n",
       " ('science', 'NN'),\n",
       " ('division', 'NN'),\n",
       " ('is', 'VBZ'),\n",
       " ('focused', 'VBN'),\n",
       " ('on', 'IN'),\n",
       " ('better', 'JJR'),\n",
       " ('understanding', 'NN'),\n",
       " ('Earth', 'NNP'),\n",
       " ('through', 'IN'),\n",
       " ('the', 'DT'),\n",
       " ('Earth', 'NNP'),\n",
       " ('Observing', 'NNP'),\n",
       " ('System', 'NNP'),\n",
       " (';', ':'),\n",
       " ('advancing', 'VBG'),\n",
       " ('heliophysics', 'NNS'),\n",
       " ('through', 'IN'),\n",
       " ('the', 'DT'),\n",
       " ('efforts', 'NNS'),\n",
       " ('of', 'IN'),\n",
       " ('the', 'DT'),\n",
       " ('Science', 'NNP'),\n",
       " ('Mission', 'NNP'),\n",
       " ('Directorate', 'NNP'),\n",
       " (\"'s\", 'POS'),\n",
       " ('Heliophysics', 'NNP'),\n",
       " ('Research', 'NNP'),\n",
       " ('Program', 'NNP'),\n",
       " (';', ':'),\n",
       " ('exploring', 'VBG'),\n",
       " ('bodies', 'NNS'),\n",
       " ('throughout', 'IN'),\n",
       " ('the', 'DT'),\n",
       " ('Solar', 'NNP'),\n",
       " ('System', 'NNP'),\n",
       " ('with', 'IN'),\n",
       " ('advanced', 'JJ'),\n",
       " ('robotic', 'JJ'),\n",
       " ('spacecraft', 'NN'),\n",
       " ('such', 'JJ'),\n",
       " ('as', 'IN'),\n",
       " ('New', 'NNP'),\n",
       " ('Horizons', 'NNP'),\n",
       " ('and', 'CC'),\n",
       " ('planetary', 'JJ'),\n",
       " ('rovers', 'NNS'),\n",
       " ('such', 'JJ'),\n",
       " ('as', 'IN'),\n",
       " ('Perseverance', 'NNP'),\n",
       " (';', ':'),\n",
       " ('and', 'CC'),\n",
       " ('researching', 'VBG'),\n",
       " ('astrophysics', 'NNS'),\n",
       " ('topics', 'NNS'),\n",
       " (',', ','),\n",
       " ('such', 'JJ'),\n",
       " ('as', 'IN'),\n",
       " ('the', 'DT'),\n",
       " ('Big', 'NNP'),\n",
       " ('Bang', 'NNP'),\n",
       " (',', ','),\n",
       " ('through', 'IN'),\n",
       " ('the', 'DT'),\n",
       " ('James', 'NNP'),\n",
       " ('Webb', 'NNP'),\n",
       " ('Space', 'NNP'),\n",
       " ('Telescope', 'NNP'),\n",
       " (',', ','),\n",
       " ('the', 'DT'),\n",
       " ('Great', 'NNP'),\n",
       " ('Observatories', 'NNPS'),\n",
       " ('and', 'CC'),\n",
       " ('associated', 'VBN'),\n",
       " ('programs', 'NNS'),\n",
       " ('.', '.'),\n",
       " ('The', 'DT'),\n",
       " ('Launch', 'JJ'),\n",
       " ('Services', 'NNP'),\n",
       " ('Program', 'NNP'),\n",
       " ('oversees', 'VBZ'),\n",
       " ('launch', 'JJ'),\n",
       " ('operations', 'NNS'),\n",
       " ('for', 'IN'),\n",
       " ('its', 'PRP$'),\n",
       " ('uncrewed', 'JJ'),\n",
       " ('launches', 'NNS'),\n",
       " ('.', '.')]"
      ]
     },
     "execution_count": 5,
     "metadata": {},
     "output_type": "execute_result"
    }
   ],
   "source": [
    "tags"
   ]
  },
  {
   "cell_type": "markdown",
   "id": "3568c499",
   "metadata": {},
   "source": [
    "### Punctuation Removal"
   ]
  },
  {
   "cell_type": "code",
   "execution_count": 6,
   "id": "f24a6b03",
   "metadata": {},
   "outputs": [
    {
     "data": {
      "text/plain": [
       "'The National Aeronautics and Space Administration NASA is an independent agency of the federal government responsible for the civil space program aeronautics research and space research Established in 1958 it succeeded the National Advisory Committee for Aeronautics NACA to give the space development effort a distinct civilian orientation emphasizing peaceful applications in space science It has since led most of America space exploration programs including Project Mercury Project Gemini the Apollo Moon landing missions the Skylab space station and the Space Shuttle Currently NASA supports the International Space Station ISS along with the Commercial Crew Program and oversees the development of the Orion spacecraft and the Space Launch System for the lunar Artemis program NASA science division is focused on better understanding Earth through the Earth Observing System advancing heliophysics through the efforts of the Science Mission Directorate Heliophysics Research Program exploring bodies throughout the Solar System with advanced robotic spacecraft such as New Horizons and planetary rovers such as Perseverance and researching astrophysics topics such as the Big Bang through the James Webb Space Telescope the Great Observatories and associated programs The Launch Services Program oversees launch operations for its uncrewed launches'"
      ]
     },
     "execution_count": 6,
     "metadata": {},
     "output_type": "execute_result"
    }
   ],
   "source": [
    "nasa_clean = [x for x in word_tokenize(nasa) if x.isalpha() or x.isdigit()]\n",
    "\" \".join(nasa_clean)"
   ]
  },
  {
   "cell_type": "markdown",
   "id": "8c0fd507",
   "metadata": {},
   "source": [
    "### Stopwards Deleting"
   ]
  },
  {
   "cell_type": "code",
   "execution_count": 8,
   "id": "269c14c2",
   "metadata": {},
   "outputs": [],
   "source": [
    "from nltk.corpus import stopwords"
   ]
  },
  {
   "cell_type": "code",
   "execution_count": 9,
   "id": "d130a2dc",
   "metadata": {},
   "outputs": [],
   "source": [
    "stop_words = stopwords.words(\"english\")"
   ]
  },
  {
   "cell_type": "code",
   "execution_count": 10,
   "id": "d0a2ff0e",
   "metadata": {},
   "outputs": [
    {
     "data": {
      "text/plain": [
       "179"
      ]
     },
     "execution_count": 10,
     "metadata": {},
     "output_type": "execute_result"
    }
   ],
   "source": [
    "len(stop_words)"
   ]
  },
  {
   "cell_type": "code",
   "execution_count": 11,
   "id": "ce83b47d",
   "metadata": {},
   "outputs": [
    {
     "data": {
      "text/plain": [
       "\"National Aeronautics Space Administration ( NASA ; /ˈnæsə/ ) independent agency U.S. federal government responsible civil space program , aeronautics research , space research . Established 1958 , succeeded National Advisory Committee Aeronautics ( NACA ) give U.S. space development effort distinct civilian orientation , emphasizing peaceful applications space science . since led America 's space exploration programs , including Project Mercury , Project Gemini , 1968–1972 Apollo Moon landing missions , Skylab space station , Space Shuttle . Currently , NASA supports International Space Station ( ISS ) along Commercial Crew Program , oversees development Orion spacecraft Space Launch System lunar Artemis program . NASA 's science division focused better understanding Earth Earth Observing System ; advancing heliophysics efforts Science Mission Directorate 's Heliophysics Research Program ; exploring bodies throughout Solar System advanced robotic spacecraft New Horizons planetary rovers Perseverance ; researching astrophysics topics , Big Bang , James Webb Space Telescope , Great Observatories associated programs . Launch Services Program oversees launch operations uncrewed launches .\""
      ]
     },
     "execution_count": 11,
     "metadata": {},
     "output_type": "execute_result"
    }
   ],
   "source": [
    "clean_sw_nasa = [x for x in word_tokenize(nasa) if x.lower() not in stop_words]\n",
    "' '.join(clean_sw_nasa)"
   ]
  },
  {
   "cell_type": "markdown",
   "id": "4ffcb94a",
   "metadata": {},
   "source": [
    "### Morphological Analysis on Nouns (Completed in colab)"
   ]
  },
  {
   "cell_type": "markdown",
   "id": "b3d45bbc",
   "metadata": {},
   "source": [
    "### Top 3 words  (To be done)"
   ]
  },
  {
   "cell_type": "markdown",
   "id": "927c3d31",
   "metadata": {},
   "source": [
    "### Find the adjectives"
   ]
  },
  {
   "cell_type": "code",
   "execution_count": 13,
   "id": "5f27f181",
   "metadata": {},
   "outputs": [],
   "source": [
    "pune = \"Pune has historically been a major cultural centre, with important figures like Dnyaneshwar, Shivaji, Tukaram, Baji Rao I, Balaji Baji Rao, Madhavrao I, Nana Fadnavis, Mahadev Govind Ranade, Gopal Krishna Gokhale, Mahatma Jyotirao Phule, Savitribai Phule, Gopal Ganesh Agarkar, Tarabai Shinde, Dhondo Keshav Karve, and Pandita Ramabai doing their life's work in Pune City or in an area that falls in Pune Metropolitan Region. Pune was a major centre of resistance to British Raj, with people like Gopal Krishna Gokhale, Bal Gangadhar Tilak and Vinayak Damodar Savarkar playing leading roles in struggle for Indian independence in their times.\""
   ]
  },
  {
   "cell_type": "code",
   "execution_count": 24,
   "id": "0327ecb4",
   "metadata": {},
   "outputs": [
    {
     "data": {
      "text/plain": [
       "['major', 'cultural', 'important', 'major', 'Indian']"
      ]
     },
     "execution_count": 24,
     "metadata": {},
     "output_type": "execute_result"
    }
   ],
   "source": [
    "tags = pos_tag(word_tokenize(pune))\n",
    "[x[0] for x in tags if x[1].startswith('J')]"
   ]
  },
  {
   "cell_type": "code",
   "execution_count": 34,
   "id": "548e5474",
   "metadata": {},
   "outputs": [],
   "source": [
    "from nltk.corpus import stopwords"
   ]
  },
  {
   "cell_type": "code",
   "execution_count": 35,
   "id": "0b6ba85c",
   "metadata": {},
   "outputs": [],
   "source": [
    "swords = stopwords.words(\"english\")"
   ]
  },
  {
   "cell_type": "code",
   "execution_count": 53,
   "id": "eff7fa0e",
   "metadata": {},
   "outputs": [],
   "source": [
    "clean_sent = [x.lower() for x in word_tokenize(nasa) if x.lower() not in swords and (x.lower()).isalpha()]"
   ]
  },
  {
   "cell_type": "code",
   "execution_count": 54,
   "id": "7ee8bb99",
   "metadata": {},
   "outputs": [],
   "source": [
    "from collections import Counter"
   ]
  },
  {
   "cell_type": "code",
   "execution_count": 55,
   "id": "141332f1",
   "metadata": {},
   "outputs": [],
   "source": [
    "count_nasa=Counter(clean_sent)"
   ]
  },
  {
   "cell_type": "code",
   "execution_count": 58,
   "id": "0f12c9c5",
   "metadata": {},
   "outputs": [],
   "source": [
    "counts=count_nasa.most_common(3)"
   ]
  },
  {
   "cell_type": "code",
   "execution_count": 59,
   "id": "4e3ade5c",
   "metadata": {},
   "outputs": [
    {
     "data": {
      "text/plain": [
       "[('space', 11), ('program', 5), ('aeronautics', 3)]"
      ]
     },
     "execution_count": 59,
     "metadata": {},
     "output_type": "execute_result"
    }
   ],
   "source": [
    "counts"
   ]
  },
  {
   "cell_type": "code",
   "execution_count": null,
   "id": "80172731",
   "metadata": {},
   "outputs": [],
   "source": []
  }
 ],
 "metadata": {
  "kernelspec": {
   "display_name": "Python 3 (ipykernel)",
   "language": "python",
   "name": "python3"
  },
  "language_info": {
   "codemirror_mode": {
    "name": "ipython",
    "version": 3
   },
   "file_extension": ".py",
   "mimetype": "text/x-python",
   "name": "python",
   "nbconvert_exporter": "python",
   "pygments_lexer": "ipython3",
   "version": "3.11.7"
  }
 },
 "nbformat": 4,
 "nbformat_minor": 5
}
